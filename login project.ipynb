{
 "cells": [
  {
   "cell_type": "code",
   "execution_count": 2,
   "id": "fca7b8d9",
   "metadata": {},
   "outputs": [
    {
     "name": "stdout",
     "output_type": "stream",
     "text": [
      "welcome\n"
     ]
    },
    {
     "name": "stderr",
     "output_type": "stream",
     "text": [
      "\n",
      "KeyboardInterrupt\n",
      "\n"
     ]
    }
   ],
   "source": [
    "access=False\n",
    "def permitted():\n",
    "    global access\n",
    "    access= True\n",
    "def login(name,password):\n",
    "    success=False\n",
    "    file=open(\"login_details.txt\",\"r\")\n",
    "    for i in file:\n",
    "        a,b=i.split(\",\")\n",
    "        b=b.strip()\n",
    "        if(a==name and b==password):\n",
    "            success=True\n",
    "            break\n",
    "    file.close()\n",
    "    if(success):\n",
    "        print(\"logged in\")\n",
    "        permitted()\n",
    "    else:\n",
    "        print(\"password or username is wrong\")\n",
    "def registration(name,password):\n",
    "    file=open(\"login_details.txt\",\"a\")\n",
    "    file.write(\"\\n\"+name+\",\"+password)\n",
    "    permitted()\n",
    "def grant(option):\n",
    "    global name\n",
    "    if(option==\"login\"):\n",
    "        name=input(\"enter name: \")\n",
    "        password=input(\"enter password: \")\n",
    "        login(name,password)\n",
    "    else:\n",
    "        print(\"enter name and password for registration\")\n",
    "        name=input(\"enter name: \")\n",
    "        password=input(\"enter password: \")\n",
    "        registration(name,password)\n",
    "def start():\n",
    "    global option\n",
    "    print(\"welcome\")\n",
    "    option=input(\"login or register(login,reg): \")\n",
    "    if(option!=\"login\" and option!=\"reg\"):\n",
    "        start()\n",
    "start()\n",
    "grant(option)\n",
    "\n",
    "if(access):\n",
    "    print(\"welcome\")\n",
    "    print(\"user details\")\n",
    "    print(\"username: \",name)"
   ]
  },
  {
   "cell_type": "code",
   "execution_count": null,
   "id": "6c739596",
   "metadata": {},
   "outputs": [],
   "source": []
  }
 ],
 "metadata": {
  "kernelspec": {
   "display_name": "Python 3 (ipykernel)",
   "language": "python",
   "name": "python3"
  },
  "language_info": {
   "codemirror_mode": {
    "name": "ipython",
    "version": 3
   },
   "file_extension": ".py",
   "mimetype": "text/x-python",
   "name": "python",
   "nbconvert_exporter": "python",
   "pygments_lexer": "ipython3",
   "version": "3.11.0"
  }
 },
 "nbformat": 4,
 "nbformat_minor": 5
}
